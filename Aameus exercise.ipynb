{
 "cells": [
  {
   "cell_type": "markdown",
   "metadata": {},
   "source": [
    "# first exercise"
   ]
  },
  {
   "cell_type": "markdown",
   "metadata": {},
   "source": [
    "We define a function which counts the number of lines for each files in specifique format in a specifique directory.\n",
    "To count the number of lines for a file, we count the '\\n' in the file. We read the file block by block so that it can fit in RAM."
   ]
  },
  {
   "cell_type": "code",
   "execution_count": 1,
   "metadata": {
    "collapsed": false
   },
   "outputs": [
    {
     "name": "stdout",
     "output_type": "stream",
     "text": [
      "C:\\Users\\XIA\\Desktop\\amadeus_test\\data\\bookings.csv :\n",
      "10000011  lines\n",
      "C:\\Users\\XIA\\Desktop\\amadeus_test\\data\\searches.csv :\n",
      "20390198  lines\n"
     ]
    }
   ],
   "source": [
    "import glob\n",
    "def blocks(files, size=65536):\n",
    "    while True:\n",
    "        b = files.read(size)\n",
    "        if not b:break\n",
    "        yield b\n",
    "        \n",
    "def countLine(files):\n",
    "    with open(files, 'r') as f:\n",
    "        return sum(bl.count('\\n') for bl in blocks(f))\n",
    "\n",
    "def countLineForEach(directory, format_f):\n",
    "    name = directory + '\\\\**\\*.' + format_f\n",
    "    for filename in glob.iglob(name, recursive=True):\n",
    "        print(filename + ' :\\n' + str(countLine(filename)) + '  lines')\n",
    " \n",
    "directory = 'C:\\\\Users\\\\XIA\\\\Desktop\\\\amadeus_test'\n",
    "format_f = 'csv'\n",
    "countLineForEach(directory, format_f)"
   ]
  },
  {
   "cell_type": "markdown",
   "metadata": {},
   "source": [
    "# second exercise"
   ]
  },
  {
   "cell_type": "code",
   "execution_count": null,
   "metadata": {
    "collapsed": true
   },
   "outputs": [],
   "source": []
  }
 ],
 "metadata": {
  "kernelspec": {
   "display_name": "Python 3",
   "language": "python",
   "name": "python3"
  },
  "language_info": {
   "codemirror_mode": {
    "name": "ipython",
    "version": 3
   },
   "file_extension": ".py",
   "mimetype": "text/x-python",
   "name": "python",
   "nbconvert_exporter": "python",
   "pygments_lexer": "ipython3",
   "version": "3.5.1"
  }
 },
 "nbformat": 4,
 "nbformat_minor": 0
}
